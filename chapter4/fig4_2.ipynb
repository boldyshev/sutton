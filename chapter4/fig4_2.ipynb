{
 "cells": [
  {
   "cell_type": "markdown",
   "id": "bronze-confidence",
   "metadata": {
    "tags": []
   },
   "source": [
    "# Jack's Car Rental \n",
    "#### Figure 4.2\n",
    "\n",
    "\n",
    "Detailed analysis of the problem in Aditya Rastogi's blogpost \n",
    "[Elucidating Policy Iteration in Reinforcement Learning — Jack’s Car Rental Problem](https://towardsdatascience.com/elucidating-policy-iteration-in-reinforcement-learning-jacks-car-rental-problem-d41b34c8aec7)\n",
    "\n",
    "His repo https://github.com/thunderInfy/JacksCarRental\n",
    "\n",
    "Good ideas how to speed up code execution in Yang Zhang's repo https://github.com/zy31415/jackscarrental\n",
    "\n",
    "Those looking for an explanation of the  probabilities calculation should look below cell 4."
   ]
  },
  {
   "cell_type": "code",
   "execution_count": 1,
   "id": "endangered-effort",
   "metadata": {},
   "outputs": [],
   "source": [
    "import copy\n",
    "import math\n",
    "import time\n",
    "import itertools\n",
    "\n",
    "import numpy as np\n",
    "import seaborn as sns\n",
    "import matplotlib.pyplot as plt"
   ]
  },
  {
   "cell_type": "markdown",
   "id": "experienced-voice",
   "metadata": {},
   "source": [
    "Constants and global variables:"
   ]
  },
  {
   "cell_type": "code",
   "execution_count": 2,
   "id": "german-cherry",
   "metadata": {},
   "outputs": [],
   "source": [
    "# maximum car number at each location\n",
    "MAX_CARS = 20\n",
    "\n",
    "# all possible states -- cartesian product of 21 (as 0 is a possible state)\n",
    "STATES = tuple(itertools.product(range(MAX_CARS + 1), repeat=2))\n",
    "\n",
    "# maximal number of cars to move overnight\n",
    "MAX_MOVE = 5\n",
    "\n",
    "# policy evaluation accuracy\n",
    "THETA = 1e-2\n",
    "\n",
    "# initialise values and policy\n",
    "# values as 2d array axis0 and axis1 (x, y) being the numbers of cars at first and second locations respectively\n",
    "values = np.zeros((MAX_CARS + 1,) * 2)\n",
    "\n",
    "# action chosen at each state (integers from -5 to 5)\n",
    "policy = np.zeros((MAX_CARS + 1,) * 2, dtype=int)\n",
    "\n",
    "# rewards and transition probabilities will be precalculated\n",
    "# 4d array for cumulative reward for transition from one state (x, y) to another (x1, y1)\n",
    "rewards = np.zeros((MAX_CARS + 1, ) * 4)\n",
    "\n",
    "# 4d array for transition probabilities between all states\n",
    "transition_probs = np.zeros((MAX_CARS + 1, ) * 4)"
   ]
  },
  {
   "cell_type": "markdown",
   "id": "central-preview",
   "metadata": {},
   "source": [
    "From the book: \"...the number of cars requested and returned at each location are Poisson random variables, meaning that the probability that the number is $n$ is $\\frac{\\lambda^n}{n!}e^{-\\lambda}$, where $\\lambda$ is the expected number\":"
   ]
  },
  {
   "cell_type": "code",
   "execution_count": 3,
   "id": "criminal-category",
   "metadata": {
    "tags": []
   },
   "outputs": [],
   "source": [
    "def poisson_prob(n, _lambda):\n",
    "    \"\"\"The probability of k occurrences of a random variable having poisson distribution with expected value mu\n",
    "\n",
    "    :param n: number of occurrences\n",
    "    :type n: int\n",
    "    :param _lambda: expected value\n",
    "    :type _lambda: int\n",
    "    :return: probability of n\n",
    "    :rtype: float\n",
    "    \"\"\"\n",
    "    return math.exp(-_lambda) * pow(_lambda, n) / math.factorial(n)"
   ]
  },
  {
   "cell_type": "markdown",
   "id": "meaningful-session",
   "metadata": {},
   "source": [
    "As it is not stated how many cars may be requested or returned we assume it can be any natural number. The expectations for request are 3 and 4 and for return are 3 and 2 at the first and second locations respectively. Given that, probabilities for any number of cars above 11 is less than 0.001:"
   ]
  },
  {
   "cell_type": "code",
   "execution_count": 4,
   "id": "urban-yeast",
   "metadata": {},
   "outputs": [
    {
     "name": "stdout",
     "output_type": "stream",
     "text": [
      "if lambda is 2, max car number is 7\n",
      "if lambda is 3, max car number is 9\n",
      "if lambda is 4, max car number is 11\n"
     ]
    }
   ],
   "source": [
    "for _lambda in (2, 3, 4):\n",
    "    y = np.array([poisson_prob(n, _lambda) for n in range(21)])\n",
    "    y1 = np.where(y > 0.001)\n",
    "    print(f'if lambda is {_lambda}, max car number is {np.max(y1)}')"
   ]
  },
  {
   "cell_type": "markdown",
   "id": "bacterial-freeware",
   "metadata": {},
   "source": [
    "We could calculate transition probabilities and rewards for all possible requests and returns below those numbers and get expected values that are close enough to the correct ones to find optimal policy. But Yang Zhang in his [repo](https://github.com/zy31415/jackscarrental) uses the approach to calculate exact probabilities for <em>any</em> number of cars requested or returned.\n",
    "\n",
    "Consider we have $x$ cars at the first location. All requests from $0$ to $x$ cars have probabilities according to poisson distribution:"
   ]
  },
  {
   "cell_type": "code",
   "execution_count": 5,
   "id": "focal-fellowship",
   "metadata": {},
   "outputs": [
    {
     "name": "stdout",
     "output_type": "stream",
     "text": [
      "probability that 0 cars will be requested is 0.049787068367863944\n",
      "probability that 1 cars will be requested is 0.14936120510359183\n",
      "probability that 2 cars will be requested is 0.22404180765538775\n",
      "probability that 3 cars will be requested is 0.22404180765538775\n",
      "probability that 4 cars will be requested is 0.16803135574154082\n",
      "probability that 5 cars will be requested is 0.10081881344492448\n"
     ]
    }
   ],
   "source": [
    "# let x be 5\n",
    "x = 5\n",
    "\n",
    "# expectation of the request at the first location\n",
    "_lambda = 3\n",
    "\n",
    "request_probabilities = [poisson_prob(n, _lambda) for n in range(x + 1)]\n",
    "for n, prob in enumerate(request_probabilities):\n",
    "    print(f'probability that {n} cars will be requested is {prob}')"
   ]
  },
  {
   "cell_type": "markdown",
   "id": "congressional-framing",
   "metadata": {},
   "source": [
    "In this situation ($x=5$) we get the same reward ($50$ dollars) and move to the same new state ($x=0)$ after all requests above $5$. The probability to get any request above $5$ is $1 - \\sum_{n=0}^{5}p(n)$. So if we sum the probability that $5$ will be requested and the probability that any number above $5$ will be requested, we will get the probability to get the reward $50$ and move to the state $x=0$:"
   ]
  },
  {
   "cell_type": "code",
   "execution_count": 6,
   "id": "underlying-cloud",
   "metadata": {
    "tags": []
   },
   "outputs": [
    {
     "name": "stdout",
     "output_type": "stream",
     "text": [
      "Probability that 5 or more cars will be requested is 0.18473675547622792\n"
     ]
    }
   ],
   "source": [
    "request_probabilities[-1] += 1 - sum(request_probabilities)\n",
    "print(f'Probability that 5 or more cars will be requested is {request_probabilities[-1]}')"
   ]
  },
  {
   "cell_type": "markdown",
   "id": "imposed-panel",
   "metadata": {},
   "source": [
    "The logic behid calculating returns is the same, but we need to sum all probabilities from $0$ to $20 - x$. If $x=5$ the return of $15$ cars and any number above that will move us to the same new state $x=20$. Let's calculate the series of probabilities for all possible car numbers and expectations:"
   ]
  },
  {
   "cell_type": "code",
   "execution_count": 7,
   "id": "historical-region",
   "metadata": {},
   "outputs": [],
   "source": [
    "poisson_probs = dict()\n",
    "for _lambda in (2, 3, 4):\n",
    "    for cars_num in range(MAX_CARS + 1):\n",
    "        poisson_probs[cars_num, _lambda] = [poisson_prob(k, _lambda) for k in range(cars_num + 1)]\n",
    "        poisson_probs[cars_num, _lambda][-1] += 1 - sum(poisson_probs[cars_num, _lambda])"
   ]
  },
  {
   "cell_type": "markdown",
   "id": "negative-interval",
   "metadata": {},
   "source": [
    "Now we can precalculate all transition probabilities and respective rewards. It takes some time, but speeds up the policy evaluation."
   ]
  },
  {
   "cell_type": "code",
   "execution_count": 8,
   "id": "designing-messenger",
   "metadata": {
    "tags": []
   },
   "outputs": [
    {
     "name": "stdout",
     "output_type": "stream",
     "text": [
      " Precalculating rewards and transition probabilities for state (20, 20) done in  15.773 seconds\n"
     ]
    }
   ],
   "source": [
    "t0 = time.perf_counter()\n",
    "\n",
    "# x and y state for numbers of cars at first and second locations respectively\n",
    "for x, y in STATES:\n",
    "    print('\\r', f'Precalculating rewards and transition probabilities for state {x, y}', end=' ')\n",
    "    # can't request more cars then available at either location\n",
    "    for request_x, req_quest in itertools.product(range(x + 1), range(y + 1)):\n",
    "        # cars left after request\n",
    "        x1, y1 = x - request_x, y - req_quest\n",
    "\n",
    "        # probability for the number of requested cars at both locations\n",
    "        prob_req = poisson_probs[x, 3][request_x] * poisson_probs[y, 4][req_quest]\n",
    "        # $10 for each car rented\n",
    "\n",
    "        reward = (request_x + req_quest) * 10\n",
    "        # can't return more than 20 minus number of cars left (cars over 20 disappear from the problem)\n",
    "        for return_x, return_y in itertools.product(range(21 - x1), range(21 - y1)):\n",
    "            # cars on both locations after return\n",
    "            x2, y2 = x1 + return_x, y1 + return_y\n",
    "\n",
    "            # probability for the number of cars returned to both locations\n",
    "            prob_ret = poisson_probs[20 - x1, 3][return_x] * poisson_probs[20 - y1, 2][return_y]\n",
    "\n",
    "            # probability of this particular transition from (x, y) to (x2, y2)\n",
    "            prob_product = prob_req * prob_ret\n",
    "\n",
    "            # update reward for (x, y) to (x2, y2) transition\n",
    "            rewards[x, y, x2, y2] += reward * prob_product\n",
    "\n",
    "            # update probability of (x, y) to (x2, y2) transition\n",
    "            transition_probs[x, y, x2, y2] += prob_product\n",
    "\n",
    "t1 = time.perf_counter()\n",
    "print('done in ', round(t1 - t0, 3), 'seconds')"
   ]
  },
  {
   "cell_type": "markdown",
   "id": "institutional-recipient",
   "metadata": {},
   "source": [
    "Remaining steps are pretty straightforward. The only trick is that we had to precalculate transition probabilities itself and the products of rewards and transition probabilities separately to get the correct result. If we expand brackets in Bellman equation we get:\n",
    "\n",
    "$$\n",
    "\\sum_{s', r}p(s',r|s,a)[r + \\gamma V(s')] = \\sum_{s', r}p(s',r|s,a)r + \\gamma \\sum_{s', r}p(s',r|s,a)V(s') = \\\\ \\sum_{s', r}p(s',r|s,a)r + \\gamma \\sum_{s'}p(s'|s,a)V(s')\n",
    "$$\n",
    "\n",
    "In cell 8 we calculate $\\sum_{s', r}p(s',r|s,a)r$ when we update rewards, and $\\sum_{s'}p(s'|s,a)$ when we update transition probabilities."
   ]
  },
  {
   "cell_type": "code",
   "execution_count": 9,
   "id": "unlikely-mexican",
   "metadata": {},
   "outputs": [
    {
     "name": "stdout",
     "output_type": "stream",
     "text": [
      " policy iteration  4"
     ]
    },
    {
     "data": {
      "image/png": "[encoded data removed]",
      "text/plain": [
       "<Figure size 2880x1440 with 12 Axes>"
      ]
     },
     "metadata": {
      "needs_background": "light"
     },
     "output_type": "display_data"
    }
   ],
   "source": [
    "def expected_value(values, state, action, discount=0.9):\n",
    "    \"\"\"Calculate expected value for a given action\n",
    "\n",
    "    :param state: state which value is updated\n",
    "    :type state: tuple\n",
    "    :param action: action taken in this state\n",
    "    :type action: int\n",
    "    :param discount: discount\n",
    "    :type discount: float\n",
    "    :return: new value\n",
    "    :rtype: float\n",
    "    \"\"\"\n",
    "    x, y = state\n",
    "\n",
    "    # move cars overnight, actions are validated during the policy improvement\n",
    "    x, y = min(x - action, 20), min(y + action, 20)\n",
    "\n",
    "    # pay $2 for each moved car\n",
    "    new_value = -2 * abs(action)\n",
    "\n",
    "    # Bellman equation\n",
    "    new_value += np.sum(rewards[x, y]) + np.sum(transition_probs[x, y] * values) * discount\n",
    "\n",
    "    return new_value\n",
    "\n",
    "\n",
    "def argmax(iterable):\n",
    "    \"\"\"Returns the index of the maximum element for python built-in iterables (e.g. lists or tuples).\n",
    "    Turns out to be faster than numpy.argmax on low-dimensional vectors.\n",
    "\n",
    "    :param iterable iterable: The vector in which to find the index of the maximum element\n",
    "    :return: Maximum element index\n",
    "    :rtype: Int\n",
    "    \"\"\"\n",
    "    return max(range(len(iterable)), key=lambda x: iterable[x])\n",
    "\n",
    "\n",
    "def policy_evaluation():\n",
    "    \"\"\"Policy evaluation implementation (step 2 of algorithm at page 80)\n",
    "\n",
    "    :return: None\n",
    "    \"\"\"\n",
    "    delta = 1\n",
    "    while delta > THETA:\n",
    "        delta = 0\n",
    "        old_values = copy.deepcopy(values)\n",
    "        for state in STATES:\n",
    "            values[state] = expected_value(old_values, state, policy[state])\n",
    "            delta = max(delta, abs(values[state] - old_values[state]))\n",
    "\n",
    "\n",
    "def policy_improvement():\n",
    "    \"\"\"Policy improvement implementation (step 3 of algorithm at page 80)\n",
    "\n",
    "    :return: None\n",
    "    \"\"\"\n",
    "    policy_stable = True\n",
    "    for state in STATES:\n",
    "        old_action = policy[state]\n",
    "\n",
    "        # get all possible actions\n",
    "        x, y = state\n",
    "        actions = range(-min(y, MAX_MOVE), min(x, MAX_MOVE) + 1)\n",
    "\n",
    "        # list of action values\n",
    "        action_values = [expected_value(values, state, action) for action in actions]\n",
    "\n",
    "        # optimal action\n",
    "        policy[x, y] = actions[argmax(action_values)]\n",
    "\n",
    "        if old_action != policy[state]:\n",
    "            policy_stable = False\n",
    "\n",
    "    return policy_stable\n",
    "\n",
    "\n",
    "def heatmap(data, title, axes, iteration):\n",
    "    \"\"\"Plot the heatmap for policy or values\n",
    "\n",
    "    :param data:\n",
    "    :param title:\n",
    "    :param axes:\n",
    "    :param iteration:\n",
    "    :return:\n",
    "    \"\"\"\n",
    "    h = sns.heatmap(data, ax=axes[iteration])\n",
    "    h.set_ylabel('#Cars at first location')\n",
    "    h.set_xlabel('#Cars at second location')\n",
    "    h.set_title(title)\n",
    "    h.invert_yaxis()\n",
    "    plt.rc('mathtext', fontset=\"cm\")\n",
    "\n",
    "\n",
    "def policy_iteration():\n",
    "    \"\"\"Policy iteration implementation from RL book page 80\n",
    "\n",
    "    :return: None\n",
    "    \"\"\"\n",
    "#     precalculate()\n",
    "\n",
    "    # plotting\n",
    "    fig, axes = plt.subplots(2, 3, figsize=(40, 20))\n",
    "    # plt.subplots_adjust(wspace=0.1, hspace=0.2)\n",
    "    axes = axes.flatten()\n",
    "\n",
    "    iteration = 0\n",
    "    policy_stable = False\n",
    "    while not policy_stable:\n",
    "        print('\\r', 'policy iteration ', iteration, end='')\n",
    "        # plot policy\n",
    "        policy_title = r'$\\pi_{}$'.format(iteration)\n",
    "        heatmap(policy, policy_title, axes, iteration)\n",
    "\n",
    "        # step2\n",
    "        policy_evaluation()\n",
    "\n",
    "        # step3\n",
    "        policy_stable = policy_improvement()\n",
    "\n",
    "        iteration += 1\n",
    "\n",
    "    # plot values\n",
    "    value_title = r'$v_{\\pi_4}$'\n",
    "    heatmap(values, value_title, axes, iteration)\n",
    "\n",
    "\n",
    "if __name__ == '__main__':\n",
    "    policy_iteration()\n",
    "    plt.show()\n"
   ]
  }
 ],
 "metadata": {
  "kernelspec": {
   "display_name": "my_env",
   "language": "python",
   "name": "my_env"
  },
  "language_info": {
   "codemirror_mode": {
    "name": "ipython",
    "version": 3
   },
   "file_extension": ".py",
   "mimetype": "text/x-python",
   "name": "python",
   "nbconvert_exporter": "python",
   "pygments_lexer": "ipython3",
   "version": "3.8.5"
  }
 },
 "nbformat": 4,
 "nbformat_minor": 5
}
