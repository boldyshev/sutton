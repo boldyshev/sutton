{
 "cells": [
  {
   "cell_type": "markdown",
   "id": "known-cooking",
   "metadata": {
    "tags": []
   },
   "source": [
    "# Jack's Car Rental \n",
    "#### Figure 4.2\n",
    "\n",
    "\n",
    "Aditya Rastogi's blogpost \n",
    "[Elucidating Policy Iteration in Reinforcement Learning — Jack’s Car Rental Problem](https://towardsdatascience.com/elucidating-policy-iteration-in-reinforcement-learning-jacks-car-rental-problem-d41b34c8aec7)\n",
    "\n",
    "and his repo https://github.com/thunderInfy/JacksCarRental"
   ]
  },
  {
   "cell_type": "code",
   "execution_count": 35,
   "id": "federal-collector",
   "metadata": {},
   "outputs": [],
   "source": [
    "import time\n",
    "import multiprocessing as mp\n",
    "from math import exp, factorial, pow\n",
    "\n",
    "import numpy as np\n",
    "import seaborn as sns\n",
    "import matplotlib.pyplot as plt"
   ]
  },
  {
   "cell_type": "markdown",
   "id": "overall-adams",
   "metadata": {},
   "source": [
    "A state is a pair of numbers of cars at the first and second location respectively. Let's define all possible states as a list of tuples:"
   ]
  },
  {
   "cell_type": "code",
   "execution_count": 34,
   "id": "immune-carroll",
   "metadata": {},
   "outputs": [],
   "source": [
    "# maximum car number at each location\n",
    "MAX_CARS = 20\n",
    "# maximal number of cars to be moved overnight\n",
    "MAX_MOVE = 5\n",
    "# policy evaluation accuracy\n",
    "THETA = 1e-2\n",
    "\n",
    "states = [(x, y) for x in range(MAX_CARS + 1) for y in range(MAX_CARS + 1)]"
   ]
  },
  {
   "cell_type": "markdown",
   "id": "divine-currency",
   "metadata": {},
   "source": [
    "Values and policies will be dictionaries where a state is a key"
   ]
  },
  {
   "cell_type": "code",
   "execution_count": 2,
   "id": "accomplished-syracuse",
   "metadata": {
    "tags": []
   },
   "outputs": [],
   "source": [
    "values = dict((state, 0) for state in states)\n",
    "policy = dict((state, 0) for state in states)"
   ]
  },
  {
   "cell_type": "markdown",
   "id": "subsequent-necessity",
   "metadata": {},
   "source": [
    "We'll need a function for calculationg poisson probability of getting requested and returned a certain number of cars at each location"
   ]
  },
  {
   "cell_type": "code",
   "execution_count": 7,
   "id": "liable-stream",
   "metadata": {},
   "outputs": [],
   "source": [
    "from math import exp, factorial, pow\n",
    "\n",
    "def poisson_prob(k, mu):\n",
    "    \"\"\"Poisson probability of getting k cars with the expectation mu\"\"\"\n",
    "    return exp(-mu) * pow(mu, k) / factorial(k)"
   ]
  },
  {
   "cell_type": "markdown",
   "id": "concerned-equity",
   "metadata": {},
   "source": [
    "To evaluate policies we'll have to calculate probabilities for all possible numbers of requested and returned cars. There are $21^4$ possible combinations. But we can ignore some combinations as their probability is low. Let's see how probability for requested number of cars at the first location behaves:"
   ]
  },
  {
   "cell_type": "code",
   "execution_count": 14,
   "id": "bottom-destination",
   "metadata": {
    "tags": []
   },
   "outputs": [
    {
     "name": "stdout",
     "output_type": "stream",
     "text": [
      "0: 0.049787068367863944\n",
      "1: 0.14936120510359183\n",
      "2: 0.22404180765538775\n",
      "3: 0.22404180765538775\n",
      "4: 0.16803135574154082\n",
      "5: 0.10081881344492448\n",
      "6: 0.05040940672246225\n",
      "7: 0.02160403145248382\n",
      "8: 0.008101511794681432\n",
      "9: 0.002700503931560477\n",
      "10: 0.0008101511794681432\n",
      "11: 0.00022095032167312998\n",
      "12: 5.5237580418282494e-05\n",
      "13: 1.2747133942680574e-05\n",
      "14: 2.7315287020029804e-06\n",
      "15: 5.46305740400596e-07\n",
      "16: 1.0243232632511176e-07\n",
      "17: 1.8076292880902075e-08\n",
      "18: 3.0127154801503463e-09\n",
      "19: 4.756919179184757e-10\n",
      "20: 7.135378768777135e-11\n"
     ]
    },
    {
     "data": {
      "image/png": "[encoded data removed]",
      "text/plain": [
       "<Figure size 432x288 with 1 Axes>"
      ]
     },
     "metadata": {
      "needs_background": "light"
     },
     "output_type": "display_data"
    }
   ],
   "source": [
    "import matplotlib.pyplot as plt\n",
    "# the expected number of requested cars in 3\n",
    "y = [poisson_prob(k, 3) for k in range(21)]\n",
    "\n",
    "plt.plot(list(range(21)), y)\n",
    "for i, prob in enumerate(y):\n",
    "    print(f'{i}: {prob}')"
   ]
  },
  {
   "cell_type": "markdown",
   "id": "ceramic-analyst",
   "metadata": {},
   "source": [
    "Let's set the significance level for the probability at 0.01. Possible expected numbers $\\mu$ of cars  are 2, 3 and 4. The maximum number of cars that can be requested or returned with the probability higher than 0.01 are:"
   ]
  },
  {
   "cell_type": "code",
   "execution_count": 19,
   "id": "remarkable-swaziland",
   "metadata": {
    "tags": []
   },
   "outputs": [
    {
     "name": "stdout",
     "output_type": "stream",
     "text": [
      "if mu is 2, max car number is 6\n",
      "if mu is 3, max car number is 7\n",
      "if mu is 4, max car number is 9\n"
     ]
    }
   ],
   "source": [
    "import numpy as np\n",
    "\n",
    "for mu in (2, 3, 4):\n",
    "    y = np.array([poisson_prob(k, mu) for k in range(21)])\n",
    "    y1 = np.where(y > 0.01)\n",
    "    print(f'if mu is {mu}, max car number is {np.max(y1)}')"
   ]
  },
  {
   "cell_type": "markdown",
   "id": "systematic-onion",
   "metadata": {},
   "source": [
    "So now lets get all pairs of requests and returns for which we shall calculate probability"
   ]
  },
  {
   "cell_type": "code",
   "execution_count": 21,
   "id": "equivalent-stephen",
   "metadata": {},
   "outputs": [],
   "source": [
    "car_requests = [(i, j) for i in range(8) for j in range(10)]\n",
    "car_returns = [(i, j) for i in range(8) for j in range(7)]\n",
    "requests_returns = [(i, j) for i in car_requests for j in car_returns]"
   ]
  },
  {
   "cell_type": "markdown",
   "id": "civic-gross",
   "metadata": {},
   "source": [
    "Precalculate"
   ]
  },
  {
   "cell_type": "code",
   "execution_count": 22,
   "id": "according-cigarette",
   "metadata": {},
   "outputs": [],
   "source": [
    "poisson_prob_product = dict()\n",
    "for car_request, car_return in requests_returns:\n",
    "    # expectations for requested number of cars are 3 and 4 for the first and he second location respectively\n",
    "    prob_request = poisson_prob(car_request[0], 3) * poisson_prob(car_request[1], 4)\n",
    "    # expectations for returned number of cars are 3 and 2 for the first and he second location respectively\n",
    "    prob_return = poisson_prob(car_return[0], 3) * poisson_prob(car_return[1], 2)\n",
    "    poisson_prob_product[car_request, car_return] = prob_request * prob_return"
   ]
  },
  {
   "cell_type": "markdown",
   "id": "hairy-dragon",
   "metadata": {},
   "source": [
    " Calculate state change due to requests and returns as a separate function"
   ]
  },
  {
   "cell_type": "code",
   "execution_count": 24,
   "id": "unlimited-shore",
   "metadata": {},
   "outputs": [],
   "source": [
    "def state_update(state, car_request, car_return):\n",
    "    \"\"\"State change given the number of requested and returned cars and the prize for renting cars\n",
    "\n",
    "    :param state: state before request and return\n",
    "    :type state: tuple\n",
    "    :param car_request: number of cars requested at the first and the second location\n",
    "    :type car_request: tuple\n",
    "    :param car_return: number of cars returned at the first and the second location\n",
    "    :type car_return: tuple\n",
    "    :return: new state and reward for rented cars\n",
    "    :rtype: tuple\n",
    "    \"\"\"\n",
    "    # can't request more cars than available\n",
    "    car_request = min(state[0], car_request[0]), min(state[1], car_request[1])\n",
    "\n",
    "    # cars on both locations after request\n",
    "    next_state = [state[0] - car_request[0], state[1] - car_request[1]]\n",
    "\n",
    "    # get $10 for each rented car\n",
    "    reward = sum(car_request) * 10\n",
    "\n",
    "    # get returned cars, remove if their number exceeds 20\n",
    "    next_state[0] = min(next_state[0] + car_return[0], 20)\n",
    "    next_state[1] = min(next_state[1] + car_return[1], 20)\n",
    "\n",
    "    return tuple(next_state), reward"
   ]
  },
  {
   "cell_type": "code",
   "execution_count": 26,
   "id": "cardiac-earth",
   "metadata": {},
   "outputs": [],
   "source": [
    "def expected_value(values, state, action, discount=0.9):\n",
    "    \"\"\"Calculate expected values for a given action\n",
    "\n",
    "    :param values: all known values so far\n",
    "    :type values: dict\n",
    "    :param state: state which value is updated\n",
    "    :type state: tuple\n",
    "    :param action: action taken in this state\n",
    "    :type action: int\n",
    "    :param discount: discount\n",
    "    :type discount: float\n",
    "    :return: new value\n",
    "    :rtype: float\n",
    "    \"\"\"\n",
    "    # move cars overnight, actions are validated during the policy improvement \n",
    "    state = min(state[0] - action, 20), min(state[1] + action, 20)\n",
    "    # pay for car movement\n",
    "    new_value = -2 * abs(action)\n",
    "\n",
    "    for car_request, car_return in requests_returns:\n",
    "        prob = poisson_prob_product[car_request, car_return]\n",
    "        next_state, reward = state_update(state, car_request, car_return)\n",
    "        new_value += prob * (reward + discount * values[next_state])\n",
    "    return new_value"
   ]
  },
  {
   "cell_type": "markdown",
   "id": "textile-kingston",
   "metadata": {},
   "source": [
    "Policy evaluation using multiprocessing"
   ]
  },
  {
   "cell_type": "code",
   "execution_count": 37,
   "id": "noble-thread",
   "metadata": {},
   "outputs": [],
   "source": [
    "def eval_state(values, state, action):\n",
    "    \"\"\"Function for parallel policy evaluation\n",
    "\n",
    "    :param values: all known values so far\n",
    "    :type values: dict\n",
    "    :param state: state which value is updated\n",
    "    :type state: tuple\n",
    "    :param action: action taken in this state\n",
    "    :type action: int\n",
    "    :return: state, new value and its difference with the previous value\n",
    "    :rtype: tuple\n",
    "    \"\"\"\n",
    "    new_value = expected_value(values, state, action)\n",
    "    delta = abs(values[state] - new_value)\n",
    "\n",
    "    return state, new_value, delta\n",
    "\n",
    "def policy_evaluation():\n",
    "    \"\"\"Parallel implementation of policy evaluation algorithm from RL book page 80\n",
    "\n",
    "    :return: None\n",
    "    \"\"\"\n",
    "\n",
    "    delta = 1\n",
    "    while delta > THETA:\n",
    "        delta = 0\n",
    "        with mp.Pool(mp.cpu_count()) as pool:\n",
    "            result = pool.starmap(eval_state, [(values, state, policy[state]) for state in states])\n",
    "        for state, new_value, delta1 in result:\n",
    "            values[state] = new_value\n",
    "            delta = max(delta, delta1)\n",
    "\n",
    "        print('\\r', f'policy evaluation {delta}'[:27], f'-> {THETA}', end='')"
   ]
  },
  {
   "cell_type": "markdown",
   "id": "devoted-customs",
   "metadata": {},
   "source": [
    "Policy improvement using multiprocessing"
   ]
  },
  {
   "cell_type": "code",
   "execution_count": 29,
   "id": "pressing-conference",
   "metadata": {},
   "outputs": [],
   "source": [
    "def argmax(iterable):\n",
    "    \"\"\"Returns the index of the maximum element for python built-in iterables (e.g. lists or tuples).\n",
    "    Turns out to be faster than numpy.argmax on low-dimensional vectors.\n",
    "\n",
    "    :param iterable iterable: The vector in which to find the index of the maximum element\n",
    "    :return: Maximum element index\n",
    "    :rtype: Int\n",
    "    \"\"\"\n",
    "    return max(range(len(iterable)), key=lambda x: iterable[x])\n",
    "\n",
    "\n",
    "def improve_step(state):\n",
    "    \"\"\"Function for parallel policy improvement\n",
    "\n",
    "    :param state: state for which we improve policy\n",
    "    :return: same state, best action with respect to the expected value and if it matches the current policy\n",
    "    :rtype: tuple\n",
    "    \"\"\"\n",
    "    # can't move overnight more cars, than there are at the location\n",
    "    actions = range(-min(state[1], 5), min(state[0], 5) + 1)\n",
    "    # list of values of all possible action\n",
    "    action_values = [expected_value(values, state, a) for a in actions]\n",
    "    # action with maximal value\n",
    "    optimal_action = actions[argmax(action_values)]\n",
    "    # if the current policy chooses maximal value action\n",
    "    is_optimal = optimal_action == policy[state]\n",
    "\n",
    "    return state, optimal_action, is_optimal\n",
    "\n",
    "\n",
    "def policy_improvement():\n",
    "    \"\"\"Parallel implementation of policy improvement algorithm from RL book page 80\n",
    "\n",
    "    :return: whether the policy is stable\n",
    "    :rtype: bool\n",
    "    \"\"\"\n",
    "    with mp.Pool(mp.cpu_count()) as pool:\n",
    "        result = pool.map(improve_step, states)\n",
    "    stables = []\n",
    "    for state, optimal_action, is_optimal in result:\n",
    "        policy[state] = optimal_action\n",
    "        stables.append(is_optimal)\n",
    "    policy_stable = False not in stables\n",
    "    return policy_stable"
   ]
  },
  {
   "cell_type": "code",
   "execution_count": 31,
   "id": "competitive-grade",
   "metadata": {},
   "outputs": [],
   "source": [
    "def heatmap(data, title, axes, iteration):\n",
    "    \"\"\"Plot the heatmap for policy or values\n",
    "\n",
    "    :param data:\n",
    "    :param title:\n",
    "    :param axes:\n",
    "    :param iteration:\n",
    "    :return:\n",
    "    \"\"\"\n",
    "    data_arr = np.empty((MAX_CARS + 1, MAX_CARS + 1))\n",
    "    for state, value in data.items():\n",
    "        x, y = state\n",
    "        data_arr[x][y] = value\n",
    "    h = sns.heatmap(data_arr, ax=axes[iteration])\n",
    "    h.set_ylabel('#Cars at first location')\n",
    "    h.set_xlabel('#Cars at second location')\n",
    "    h.set_title(title)\n",
    "    h.invert_yaxis()\n",
    "    plt.rc('mathtext', fontset=\"cm\")"
   ]
  },
  {
   "cell_type": "code",
   "execution_count": 32,
   "id": "numerical-villa",
   "metadata": {
    "tags": []
   },
   "outputs": [],
   "source": [
    "def policy_iteration():\n",
    "    \"\"\"Policy iteration implemention from RL book page 80\n",
    "\n",
    "    :return: None\n",
    "    \"\"\"\n",
    "\n",
    "    policy_stable = False\n",
    "    iteration = 0\n",
    "    fig, axes = plt.subplots(2, 3, figsize=(40, 20))\n",
    "    plt.subplots_adjust(wspace=0.1, hspace=0.2)\n",
    "    axes = axes.flatten()\n",
    "    while not policy_stable:\n",
    "        policy_title = r'$\\pi_{}$'.format(iteration)\n",
    "        heatmap(policy, policy_title, axes, iteration)\n",
    "        print('\\niteration ', iteration)\n",
    "        t0 = time.perf_counter()\n",
    "        policy_evaluation()\n",
    "        t1 = time.perf_counter()\n",
    "        print(f' done in {round(t1 - t0, 3)} sec')\n",
    "\n",
    "        print(' policy improvement...', end=' ')\n",
    "        policy_stable = policy_improvement()\n",
    "        t2 = time.perf_counter()\n",
    "        print(f' done in {round(t2 - t1, 3)} sec')\n",
    "\n",
    "        iteration += 1\n",
    "    value_title = r'$v_{\\pi_4}$'\n",
    "    heatmap(values, value_title, axes, iteration)"
   ]
  },
  {
   "cell_type": "code",
   "execution_count": 36,
   "id": "stuffed-latter",
   "metadata": {},
   "outputs": [
    {
     "name": "stdout",
     "output_type": "stream",
     "text": [
      "\n",
      "iteration  0\n",
      " policy evaluation 0.0091781 -> 0.01 done in 29.622 sec\n",
      " policy improvement...  done in 4.054 sec\n",
      "\n",
      "iteration  1\n",
      " policy evaluation 0.0091861 -> 0.01 done in 17.715 sec\n",
      " policy improvement...  done in 4.088 sec\n",
      "\n",
      "iteration  2\n",
      " policy evaluation 0.0085866 -> 0.01 done in 13.355 sec\n",
      " policy improvement...  done in 4.034 sec\n",
      "\n",
      "iteration  3\n",
      " policy evaluation 0.0085130 -> 0.01 done in 5.916 sec\n",
      " policy improvement...  done in 4.072 sec\n",
      "\n",
      "iteration  4\n",
      " policy evaluation 0.0087866 -> 0.01 done in 1.276 sec\n",
      " policy improvement...  done in 4.441 sec\n"
     ]
    },
    {
     "data": {
      "image/png": "[encoded data removed]",
      "text/plain": [
       "<Figure size 2880x1440 with 12 Axes>"
      ]
     },
     "metadata": {
      "needs_background": "light"
     },
     "output_type": "display_data"
    }
   ],
   "source": [
    "policy_iteration()"
   ]
  }
 ],
 "metadata": {
  "kernelspec": {
   "display_name": "my_env",
   "language": "python",
   "name": "my_env"
  },
  "language_info": {
   "codemirror_mode": {
    "name": "ipython",
    "version": 3
   },
   "file_extension": ".py",
   "mimetype": "text/x-python",
   "name": "python",
   "nbconvert_exporter": "python",
   "pygments_lexer": "ipython3",
   "version": "3.8.5"
  }
 },
 "nbformat": 4,
 "nbformat_minor": 5
}
