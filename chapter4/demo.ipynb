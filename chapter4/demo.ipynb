{
 "cells": [
  {
   "cell_type": "markdown",
   "metadata": {},
   "source": [
    "# Figure 4.1"
   ]
  },
  {
   "cell_type": "code",
   "execution_count": 1,
   "metadata": {},
   "outputs": [],
   "source": [
    "# states are cells of 4x4 grid\n",
    "states = [(x, y) for x in range(4) for y in range(4)]\n",
    "\n",
    "# actions\n",
    "actions = {'north': (0, -1), 'south': (0, 1), 'east': (1, 0), 'west': (-1, 0)}"
   ]
  },
  {
   "cell_type": "code",
   "execution_count": 2,
   "metadata": {},
   "outputs": [],
   "source": [
    "def state_reward(state, action):\n",
    "    x, y = state\n",
    "    dx, dy = action\n",
    "    if (x, y) in [(0, 0), (3, 3)]:\n",
    "        return (x, y), 0\n",
    "    # new state\n",
    "    x1, y1 = x + dx, y + dy\n",
    "    if x1 in (-1, 4) or y1 in (-1, 4):\n",
    "        return (x, y), -1\n",
    "    else:\n",
    "        return (x1, y1), -1"
   ]
  },
  {
   "cell_type": "code",
   "execution_count": 3,
   "metadata": {},
   "outputs": [],
   "source": [
    "def update_value_out(values, state, policy, discount=0.9):\n",
    "    if state in [(0, 0), (3, 3)]:\n",
    "        return 0\n",
    "    _value = 0\n",
    "    for action in actions.values():\n",
    "        next_state, reward = state_reward(state, action)\n",
    "        _value += policy * (reward + discount * values[next_state])\n",
    "    return _value\n",
    "    "
   ]
  },
  {
   "cell_type": "code",
   "execution_count": 4,
   "metadata": {},
   "outputs": [],
   "source": [
    "def fill_table(values):\n",
    "    fig, ax = plt.subplots()\n",
    "    tb = Table(ax, bbox=[0, 0, 1, 1])\n",
    "    for (x, y), val in values.items():\n",
    "        tb.add_cell(x, y, 1/4, 1/4, text=round(val, 1), \n",
    "                    loc='center', facecolor='white')\n",
    "\n",
    "    ax.add_table(tb)\n",
    "    ax.set_axis_off()"
   ]
  },
  {
   "cell_type": "markdown",
   "metadata": {},
   "source": [
    "Two-array version of iterative policy evaluation"
   ]
  },
  {
   "cell_type": "code",
   "execution_count": 5,
   "metadata": {},
   "outputs": [],
   "source": [
    "from copy import deepcopy\n",
    "import matplotlib.pyplot as plt\n",
    "from matplotlib.table import Table\n",
    "\n",
    "def eval_policy(iters):\n",
    "    values = dict((state, 0) for state in states)\n",
    "    values[(0, 0)] = 0\n",
    "    values[(3, 3)] = 0\n",
    "    policy = 0.25\n",
    "    for i in range(iters):\n",
    "        old_values = deepcopy(values)\n",
    "        for state in states:\n",
    "            prev_value = values[state]\n",
    "            values[state] = update_value_out(old_values, state, policy, discount=1)\n",
    "\n",
    "    fill_table(values)\n",
    "    # plt.savefig(f'figs/fig4_1_k_{iters}.svg', format='svg')"
   ]
  },
  {
   "cell_type": "code",
   "execution_count": 6,
   "metadata": {},
   "outputs": [
    {
     "data": {
      "image/png": "[encoded data removed]",
      "text/plain": [
       "<Figure size 432x288 with 1 Axes>"
      ]
     },
     "metadata": {
      "needs_background": "light"
     },
     "output_type": "display_data"
    }
   ],
   "source": [
    "eval_policy(0)"
   ]
  },
  {
   "cell_type": "code",
   "execution_count": 7,
   "metadata": {},
   "outputs": [
    {
     "data": {
      "image/png": "[encoded data removed]",
      "text/plain": [
       "<Figure size 432x288 with 1 Axes>"
      ]
     },
     "metadata": {
      "needs_background": "light"
     },
     "output_type": "display_data"
    }
   ],
   "source": [
    "eval_policy(1)"
   ]
  },
  {
   "cell_type": "code",
   "execution_count": 8,
   "metadata": {},
   "outputs": [
    {
     "data": {
      "image/png": "[encoded data removed]",
      "text/plain": [
       "<Figure size 432x288 with 1 Axes>"
      ]
     },
     "metadata": {
      "needs_background": "light"
     },
     "output_type": "display_data"
    }
   ],
   "source": [
    "eval_policy(2)"
   ]
  },
  {
   "cell_type": "code",
   "execution_count": 9,
   "metadata": {},
   "outputs": [
    {
     "data": {
      "image/png": "[encoded data removed]",
      "text/plain": [
       "<Figure size 432x288 with 1 Axes>"
      ]
     },
     "metadata": {
      "needs_background": "light"
     },
     "output_type": "display_data"
    }
   ],
   "source": [
    "eval_policy(3)"
   ]
  },
  {
   "cell_type": "code",
   "execution_count": 10,
   "metadata": {},
   "outputs": [
    {
     "data": {
      "image/png": "[encoded data removed]",
      "text/plain": [
       "<Figure size 432x288 with 1 Axes>"
      ]
     },
     "metadata": {
      "needs_background": "light"
     },
     "output_type": "display_data"
    }
   ],
   "source": [
    "eval_policy(10)"
   ]
  },
  {
   "cell_type": "code",
   "execution_count": 11,
   "metadata": {},
   "outputs": [
    {
     "data": {
      "image/png": "[encoded data removed]",
      "text/plain": [
       "<Figure size 432x288 with 1 Axes>"
      ]
     },
     "metadata": {
      "needs_background": "light"
     },
     "output_type": "display_data"
    }
   ],
   "source": [
    "eval_policy(1000)"
   ]
  }
 ],
 "metadata": {
  "kernelspec": {
   "display_name": "my_env",
   "language": "python",
   "name": "my_env"
  },
  "language_info": {
   "codemirror_mode": {
    "name": "ipython",
    "version": 3
   },
   "file_extension": ".py",
   "mimetype": "text/x-python",
   "name": "python",
   "nbconvert_exporter": "python",
   "pygments_lexer": "ipython3",
   "version": "3.8.5"
  }
 },
 "nbformat": 4,
 "nbformat_minor": 4
}
