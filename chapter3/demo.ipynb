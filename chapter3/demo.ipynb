{
 "cells": [
  {
   "cell_type": "markdown",
   "metadata": {},
   "source": [
    "# Gridworld\n",
    "\n",
    "## Figure 3.2"
   ]
  },
  {
   "cell_type": "markdown",
   "metadata": {},
   "source": [
    "Define states as coordinates of cells in 5x5 table"
   ]
  },
  {
   "cell_type": "code",
   "execution_count": 11,
   "metadata": {},
   "outputs": [],
   "source": [
    "states = [(x, y) for x in range(5) for y in range(5)]"
   ]
  },
  {
   "cell_type": "markdown",
   "metadata": {},
   "source": [
    "Actions are moving to north, south, east and west"
   ]
  },
  {
   "cell_type": "code",
   "execution_count": 12,
   "metadata": {},
   "outputs": [],
   "source": [
    "actions = {'north': (0, -1), 'south': (0, 1), 'east': (1, 0), 'west': (-1, 0)}"
   ]
  },
  {
   "cell_type": "markdown",
   "metadata": {},
   "source": [
    "Initial values as dictionary with keys being the states"
   ]
  },
  {
   "cell_type": "code",
   "execution_count": 13,
   "metadata": {},
   "outputs": [],
   "source": [
    "values = dict((state, 0) for state in states)"
   ]
  },
  {
   "cell_type": "markdown",
   "metadata": {},
   "source": [
    "Function for state transitions"
   ]
  },
  {
   "cell_type": "code",
   "execution_count": 14,
   "metadata": {},
   "outputs": [],
   "source": [
    "def state_reward(state, action):\n",
    "    x, y = state\n",
    "    dx, dy = action\n",
    "    # A -> A'\n",
    "    if (x, y) == (0, 1):\n",
    "        return (4, 1), 10\n",
    "    # B -> B'\n",
    "    if (x, y) == (0, 3):\n",
    "        return (2, 3), 5\n",
    "\n",
    "    # new state\n",
    "    x1, y1 = x + dx, y + dy\n",
    "\n",
    "    # out of bounds\n",
    "    if x1 in (-1, 5) or y1 in (-1, 5):\n",
    "        return (x, y), -1\n",
    "    else:\n",
    "        return (x1, y1), 0"
   ]
  },
  {
   "cell_type": "markdown",
   "metadata": {},
   "source": [
    "Function for updating values"
   ]
  },
  {
   "cell_type": "code",
   "execution_count": 15,
   "metadata": {},
   "outputs": [],
   "source": [
    "def update_value(state, discount=0.9):\n",
    "    _value = 0\n",
    "    for action in actions.values():\n",
    "        next_state, reward = state_reward(state, action)\n",
    "        _value += policy * (reward + discount * values[next_state])\n",
    "    values[state] = _value"
   ]
  },
  {
   "cell_type": "markdown",
   "metadata": {},
   "source": [
    "Iterative policy evaluation"
   ]
  },
  {
   "cell_type": "code",
   "execution_count": 16,
   "metadata": {},
   "outputs": [],
   "source": [
    "policy = 0.25\n",
    "\n",
    "theta = 1e-6\n",
    "delta = 1e-5\n",
    "while delta > theta:\n",
    "    delta = 0\n",
    "    for state in states:\n",
    "        prev_value = values[state]\n",
    "        update_value(state)\n",
    "        delta = max(delta, abs(prev_value - values[state]))"
   ]
  },
  {
   "cell_type": "markdown",
   "metadata": {},
   "source": [
    "Draw table with values estimations"
   ]
  },
  {
   "cell_type": "code",
   "execution_count": 17,
   "metadata": {},
   "outputs": [
    {
     "data": {
      "image/png": "[encoded data removed]",
      "text/plain": [
       "<Figure size 432x288 with 1 Axes>"
      ]
     },
     "metadata": {
      "needs_background": "light"
     },
     "output_type": "display_data"
    }
   ],
   "source": [
    "import matplotlib.pyplot as plt\n",
    "from matplotlib.table import Table\n",
    "\n",
    "\n",
    "def fill_table(values):\n",
    "    fig, ax = plt.subplots()\n",
    "    tb = Table(ax, bbox=[0, 0, 1, 1])\n",
    "    for (x, y), val in values.items():\n",
    "        tb.add_cell(x, y, 1/5, 1/5, text=round(val, 1), \n",
    "                    loc='center', facecolor='white')\n",
    "\n",
    "    ax.add_table(tb)\n",
    "    ax.set_axis_off()\n",
    "\n",
    "\n",
    "fill_table()"
   ]
  },
  {
   "cell_type": "markdown",
   "metadata": {},
   "source": [
    "## Figure 3.5\n",
    "\n",
    "Function for updating optimal values"
   ]
  },
  {
   "cell_type": "code",
   "execution_count": 18,
   "metadata": {},
   "outputs": [],
   "source": [
    "def update_value_optimal(state, discount=0.9):\n",
    "    _value = []\n",
    "    for action in actions.values():\n",
    "        next_state, reward = state_reward(state, action)\n",
    "        _value.append(reward + discount * values[next_state])\n",
    "    values[state] = max(_value)"
   ]
  },
  {
   "cell_type": "markdown",
   "metadata": {},
   "source": [
    "Optimal value calculation"
   ]
  },
  {
   "cell_type": "code",
   "execution_count": 19,
   "metadata": {},
   "outputs": [],
   "source": [
    "theta = 1e-6\n",
    "delta = 1e-5\n",
    "while delta > theta:\n",
    "    delta = 0\n",
    "    for state in states:\n",
    "        prev_value = values[state]\n",
    "        update_value_optimal(state)\n",
    "        delta = max(delta, abs(prev_value - values[state]))"
   ]
  },
  {
   "cell_type": "code",
   "execution_count": 20,
   "metadata": {},
   "outputs": [
    {
     "data": {
      "image/png": "[encoded data removed]",
      "text/plain": [
       "<Figure size 432x288 with 1 Axes>"
      ]
     },
     "metadata": {
      "needs_background": "light"
     },
     "output_type": "display_data"
    }
   ],
   "source": [
    "fill_table()\n",
    "plt.savefig('figs/fig3_5.svg', format='svg')"
   ]
  }
 ],
 "metadata": {
  "kernelspec": {
   "display_name": "my_env",
   "language": "python",
   "name": "my_env"
  },
  "language_info": {
   "codemirror_mode": {
    "name": "ipython",
    "version": 3
   },
   "file_extension": ".py",
   "mimetype": "text/x-python",
   "name": "python",
   "nbconvert_exporter": "python",
   "pygments_lexer": "ipython3",
   "version": "3.8.5"
  }
 },
 "nbformat": 4,
 "nbformat_minor": 4
}
